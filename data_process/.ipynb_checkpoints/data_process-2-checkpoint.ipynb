{
 "cells": [
  {
   "cell_type": "code",
   "execution_count": 4,
   "id": "2d903733-f3fe-4c36-b0f0-dee6d8934fdc",
   "metadata": {},
   "outputs": [],
   "source": [
    "import pandas as pd \n",
    "import numpy as np\n",
    "import matplotlib.pyplot as plt"
   ]
  },
  {
   "cell_type": "code",
   "execution_count": null,
   "id": "8df1ffbf-298d-4d1d-8a52-bae68d6287f2",
   "metadata": {},
   "outputs": [],
   "source": [
    "rating = pd.read_table(\"data/rating.gz\")\n",
    "akas = pd.read_table(\"data/akas.gz\", low_memory=False)\n",
    "basics = pd.read_table(\"data/basics.tsv\", low_memory=False)"
   ]
  },
  {
   "cell_type": "code",
   "execution_count": null,
   "id": "1dbec083-47e3-4e2e-a819-3e7fb0367976",
   "metadata": {},
   "outputs": [],
   "source": [
    "def transform_data(rating, akas, basics):\n",
    "    movie_info = basics[(basics.titleType == 'movie') & (basics.isAdult == '0')]\n",
    "    movie = pd.merge(movie_info, rating, on = 'tconst', how = 'inner')\n",
    "    movie = movie.drop(columns = ['isAdult', 'endYear', 'titleType', 'originalTitle'])\n",
    "    movie.loc[movie[\"runtimeMinutes\"] == \"\\\\N\", \"runtimeMinutes\"] = \"95\"\n",
    "    movie[\"runtimeMinutes\"] = movie[\"runtimeMinutes\"].astype(int)\n",
    "    movie = movie[movie[\"numVotes\"] > 10000]\n",
    "    movie[\"startYear\"] = movie[\"startYear\"].astype(int)\n",
    "    movie = movie.rename(columns = {\"tconst\":\"tid\", \"primaryTitle\":\"title\", \"startYear\":\"year\", \n",
    "                        \"runtimeMinutes\":\"length\", \"averageRating\":\"rating\", \"numVotes\":\"votes\"})\n",
    "    genre = pd.DataFrame(columns = [\"tid\", \"genre\"])\n",
    "    genres = movie[[\"tid\", \"genres\"]]\n",
    "    for ind, data in genres.iterrows():\n",
    "        tid, y = data\n",
    "        amount = y.split(',')\n",
    "        for z in amount:\n",
    "            genre.loc[len(genre.index)] = [tid, z]\n",
    "    movie = movie.drop(columns = \"genres\")\n",
    "    return movie, genre\n",
    "    "
   ]
  },
  {
   "cell_type": "code",
   "execution_count": null,
   "id": "78949b1a-c39f-4fa4-be50-e53053df205a",
   "metadata": {},
   "outputs": [],
   "source": [
    "'''\n",
    "import requests\n",
    "for __, row in movie.iterrows():\n",
    "    body = {\"tid\":row[\"tid\"],\"title\":row[\"title\"], \"year\":row[\"year\"], \"length\":row[\"length\"], \"rating\":row[\"rating\"], \"votes\":row[\"votes\"]}\n",
    "    url = \"http://localhost:5001/movie\"\n",
    "    requests.put(url, body)\n",
    "for __, row in genre.iterrows():\n",
    "    body = {\"tid\":row[\"tid\"], \"genre\":row[\"genre\"]}\n",
    "    url = \"http://localhost:5001/genre\"\n",
    "    requests.post(url, body)\n",
    "'''"
   ]
  },
  {
   "cell_type": "code",
   "execution_count": null,
   "id": "5e3ac212-c072-4c04-8508-3109369156f5",
   "metadata": {},
   "outputs": [],
   "source": [
    "movie, genre = transform_data(rating, basics)"
   ]
  },
  {
   "cell_type": "code",
   "execution_count": null,
   "id": "05ad079d-bb3a-4dbf-9084-0f5029fdbd00",
   "metadata": {},
   "outputs": [],
   "source": [
    "principal = pd.read_table(\"data/principals.gz\")\n",
    "actor_info = pd.read_table(\"data/name.gz\")"
   ]
  },
  {
   "cell_type": "code",
   "execution_count": null,
   "id": "42694915-b9ae-47e8-8606-8bada543230e",
   "metadata": {},
   "outputs": [],
   "source": [
    "principal = principal[(principal.category == 'actress') | (principal.category == 'actor')| (principal.category == 'director')]"
   ]
  },
  {
   "cell_type": "code",
   "execution_count": null,
   "id": "668de9aa-d798-4727-a13f-7be01cf5352a",
   "metadata": {},
   "outputs": [],
   "source": [
    "principal = principal.drop(columns = \"job\")"
   ]
  },
  {
   "cell_type": "code",
   "execution_count": null,
   "id": "c1a061f9-ac06-4eba-bf4e-82791b5c41a6",
   "metadata": {},
   "outputs": [],
   "source": [
    "principal"
   ]
  },
  {
   "cell_type": "code",
   "execution_count": null,
   "id": "dc5abc96-2e52-436a-9a37-253e7534cfc0",
   "metadata": {},
   "outputs": [],
   "source": [
    "value = movie.tid.unique()"
   ]
  },
  {
   "cell_type": "code",
   "execution_count": null,
   "id": "855a185a-8281-4c8b-85dd-e39f6dc0ff7c",
   "metadata": {},
   "outputs": [],
   "source": [
    "principal = principal[principal['tconst'].isin(value)]"
   ]
  },
  {
   "cell_type": "code",
   "execution_count": null,
   "id": "293b6f65-0f8d-4663-b9dd-4902af53261e",
   "metadata": {},
   "outputs": [],
   "source": [
    "actor_info = actor_info[(actor_info['birthYear'] != '\\\\N')&(~actor_info[\"primaryProfession\"].isna())]"
   ]
  },
  {
   "cell_type": "code",
   "execution_count": null,
   "id": "d3bf0c55-193b-41aa-b7f9-7c29650d8948",
   "metadata": {},
   "outputs": [],
   "source": [
    "actor_info"
   ]
  },
  {
   "cell_type": "code",
   "execution_count": null,
   "id": "6dc862b7-9fa8-453f-a0b2-3d488dfa8af7",
   "metadata": {},
   "outputs": [],
   "source": [
    "val = principal['nconst'].unique()"
   ]
  },
  {
   "cell_type": "code",
   "execution_count": null,
   "id": "950cfee1-4c04-4141-b83f-68a5dd380cba",
   "metadata": {},
   "outputs": [],
   "source": [
    "actor_info = actor_info[actor_info['nconst'].isin(val)]"
   ]
  },
  {
   "cell_type": "code",
   "execution_count": null,
   "id": "60289c59-f6d0-44a7-97d7-d6d4a6973391",
   "metadata": {},
   "outputs": [],
   "source": [
    "actor_info"
   ]
  },
  {
   "cell_type": "code",
   "execution_count": null,
   "id": "899095ba-3dcd-430a-a4eb-c62c6b4a2011",
   "metadata": {},
   "outputs": [],
   "source": [
    "principal = principal.drop(columns = 'ordering')"
   ]
  },
  {
   "cell_type": "code",
   "execution_count": null,
   "id": "9a905cba-5056-43c9-94a3-a8e62902be0d",
   "metadata": {},
   "outputs": [],
   "source": [
    "principal"
   ]
  },
  {
   "cell_type": "code",
   "execution_count": null,
   "id": "3ef4d656-845b-4ce3-8bf5-85f78df80356",
   "metadata": {},
   "outputs": [],
   "source": [
    "actor_info"
   ]
  },
  {
   "cell_type": "code",
   "execution_count": null,
   "id": "a013fd07-b6cf-427a-823c-2067871bb184",
   "metadata": {},
   "outputs": [],
   "source": [
    "knownFor = actor_info[['nconst', 'knownForTitles']]"
   ]
  },
  {
   "cell_type": "code",
   "execution_count": null,
   "id": "b22eaf57-e228-40e0-890e-aea177fc2d12",
   "metadata": {},
   "outputs": [],
   "source": [
    "famousFor = pd.DataFrame(columns = ['nconst', 'known'])"
   ]
  },
  {
   "cell_type": "code",
   "execution_count": null,
   "id": "8e64dea6-15c1-4677-819f-26e24a6eb176",
   "metadata": {},
   "outputs": [],
   "source": [
    "for ind, data in knownFor.iterrows():\n",
    "        tid, y = data\n",
    "        amount = y.split(',')\n",
    "        for z in amount:\n",
    "            famousFor.loc[len(famousFor.index)] = [tid, z]"
   ]
  },
  {
   "cell_type": "code",
   "execution_count": null,
   "id": "98ba09f5-68d8-48b7-923a-682790dbdc2f",
   "metadata": {},
   "outputs": [],
   "source": [
    "famousFor"
   ]
  },
  {
   "cell_type": "code",
   "execution_count": null,
   "id": "54498756-db75-4947-9946-cab0c1602f94",
   "metadata": {},
   "outputs": [],
   "source": [
    "principal.loc[principal.category != 'director', 'characters'] = principal.loc[principal.category != 'director', 'characters'].apply(lambda x : x[2:len(x) - 2].split(',')[0])"
   ]
  },
  {
   "cell_type": "code",
   "execution_count": null,
   "id": "63b9e595-7ac3-47e9-b3b8-0991bb32d163",
   "metadata": {},
   "outputs": [],
   "source": [
    "principal"
   ]
  },
  {
   "cell_type": "code",
   "execution_count": null,
   "id": "953e2234-8b03-4689-9ff1-437bdf73eabe",
   "metadata": {},
   "outputs": [],
   "source": [
    "actor_info = actor_info.drop(columns = ('knownForTitles'))"
   ]
  },
  {
   "cell_type": "code",
   "execution_count": null,
   "id": "2cc366be-c67b-4439-a59f-f9ec98bf3a26",
   "metadata": {},
   "outputs": [],
   "source": [
    "actor_info.loc[actor_info.deathYear == '\\\\N', 'deathYear'] = '0'"
   ]
  },
  {
   "cell_type": "code",
   "execution_count": null,
   "id": "8996cbba-6af4-4cc5-94e7-6713b1650079",
   "metadata": {},
   "outputs": [],
   "source": [
    "actor_info['birthYear'] = actor_info['birthYear'].astype(int)\n",
    "actor_info['deathYear'] = actor_info['deathYear'].astype(int)"
   ]
  },
  {
   "cell_type": "code",
   "execution_count": null,
   "id": "bef8fd84-2d5d-4aeb-a04d-b53f499c5e97",
   "metadata": {},
   "outputs": [],
   "source": [
    "actor_info"
   ]
  },
  {
   "cell_type": "code",
   "execution_count": null,
   "id": "8197488b-a3e3-48e4-b4ba-75ea1890da98",
   "metadata": {},
   "outputs": [],
   "source": [
    "import requests\n",
    "for __, row in famousFor.iterrows():\n",
    "    body = {\"uid\":row[\"nconst\"],\"tid\":row[\"known\"]}\n",
    "    url = \"http://localhost:5001/famous\"\n",
    "    requests.put(url, body)\n",
    "    \n",
    "for __, row in principal.iterrows():\n",
    "    body = {\"uid\":row[\"nconst\"], \"tid\":row[\"tconst\"], \"category\":row[\"category\"], \"characters\":row[\"characters\"]}\n",
    "    url = \"http://localhost:5001/crew\"\n",
    "    requests.put(url, body)\n",
    "    \n",
    "for __, row in actor_info.iterrows():\n",
    "    body = {\n",
    "        \"uid\":row[\"nconst\"],\n",
    "        \"name\":row[\"primaryName\"],\n",
    "        \"birthYear\":row[\"birthYear\"],\n",
    "        \"deathYear\":row[\"deathYear\"],\n",
    "        \"primaryProfession\":row[\"primaryProfession\"]\n",
    "    }\n",
    "    \n",
    "    url = \"http://localhost:5001/info\"\n",
    "    requests.put(url, body)"
   ]
  },
  {
   "cell_type": "code",
   "execution_count": null,
   "id": "c088ddda-c829-4fea-8735-36cf540c0b3e",
   "metadata": {},
   "outputs": [],
   "source": []
  }
 ],
 "metadata": {
  "kernelspec": {
   "display_name": "Python 3 (ipykernel)",
   "language": "python",
   "name": "python3"
  },
  "language_info": {
   "codemirror_mode": {
    "name": "ipython",
    "version": 3
   },
   "file_extension": ".py",
   "mimetype": "text/x-python",
   "name": "python",
   "nbconvert_exporter": "python",
   "pygments_lexer": "ipython3",
   "version": "3.9.7"
  }
 },
 "nbformat": 4,
 "nbformat_minor": 5
}
