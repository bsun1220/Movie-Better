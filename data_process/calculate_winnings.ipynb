{
 "cells": [
  {
   "cell_type": "code",
   "execution_count": 31,
   "id": "8c06c06f-1563-437c-b463-71be959fd5e2",
   "metadata": {},
   "outputs": [],
   "source": [
    "def calculate_winnings(rating, movie_distributions):\n",
    "    '''\n",
    "    Args:\n",
    "        rating : float (0 <= rating <= 10)\n",
    "        movie_distribution : list[(pred_rating, uid, amount)]\n",
    "        pred rating : float (\n",
    "        uid : str\n",
    "        amount : float ( amount > 0)\n",
    "    Returns:\n",
    "        winnings : dict [uid -> earnings]\n",
    "        uid : str\n",
    "        earnings : float \n",
    "    '''\n",
    "    \n",
    "    winnings = {}\n",
    "    \n",
    "    total_loss = 0\n",
    "    total_win = 0\n",
    "    \n",
    "    winnings_list = [] \n",
    "    \n",
    "    for bet in movie_distributions:\n",
    "        if bet[1] not in winnings:\n",
    "            winnings[bet[1]] = 0\n",
    "        if abs(rating - bet[0]) > 0.1:\n",
    "            total_loss += bet[2]\n",
    "            winnings[bet[1]] -= bet[2]\n",
    "        else:\n",
    "            total_win += bet[2]\n",
    "            winnings_list.append((bet[1], bet[2]))\n",
    "    \n",
    "    if total_loss == 0:\n",
    "        return winnings\n",
    "    \n",
    "\n",
    "    for win in winnings_list:\n",
    "        prop = win[1]/total_win\n",
    "        \n",
    "        winnings[win[0]] += prop * total_loss + win[1]\n",
    "        \n",
    "    \n",
    "    return winnings \n",
    "    "
   ]
  },
  {
   "cell_type": "code",
   "execution_count": 35,
   "id": "9cdfe52a-9661-4853-822b-f531d5664ce5",
   "metadata": {},
   "outputs": [
    {
     "data": {
      "text/plain": [
       "{'uid0': -100, 'uid1': -300, 'uid2': -500, 'uid3': -300}"
      ]
     },
     "execution_count": 35,
     "metadata": {},
     "output_type": "execute_result"
    }
   ],
   "source": [
    "bet = [\n",
    "    (9.5, \"uid0\", 100),\n",
    "    (8.7, \"uid1\", 100),\n",
    "    (9.4, \"uid1\", 200),\n",
    "    (5, \"uid2\", 500),\n",
    "    (5.1, \"uid3\", 300) \n",
    "]\n",
    "calculate_winnings(1, bet)"
   ]
  },
  {
   "cell_type": "code",
   "execution_count": null,
   "id": "2450a9da-be53-4b85-bf9b-8acd2e7dfafa",
   "metadata": {},
   "outputs": [],
   "source": []
  }
 ],
 "metadata": {
  "kernelspec": {
   "display_name": "Python 3 (ipykernel)",
   "language": "python",
   "name": "python3"
  },
  "language_info": {
   "codemirror_mode": {
    "name": "ipython",
    "version": 3
   },
   "file_extension": ".py",
   "mimetype": "text/x-python",
   "name": "python",
   "nbconvert_exporter": "python",
   "pygments_lexer": "ipython3",
   "version": "3.9.7"
  }
 },
 "nbformat": 4,
 "nbformat_minor": 5
}
